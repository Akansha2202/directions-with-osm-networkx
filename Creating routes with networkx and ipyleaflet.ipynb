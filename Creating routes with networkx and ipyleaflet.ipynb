{
 "cells": [
  {
   "cell_type": "code",
   "execution_count": 1,
   "metadata": {},
   "outputs": [],
   "source": [
    "import networkx as nx\n",
    "import osmnx as ox\n",
    "from shapely.geometry import LineString, mapping\n",
    "import geopandas as gpd\n",
    "import json\n",
    "from ipyleaflet import *"
   ]
  },
  {
   "cell_type": "code",
   "execution_count": 2,
   "metadata": {},
   "outputs": [],
   "source": [
    "place_name = \"Kamppi, Helsinki, Finland\""
   ]
  },
  {
   "cell_type": "code",
   "execution_count": 3,
   "metadata": {},
   "outputs": [],
   "source": [
    "graph = ox.graph_from_place(place_name)"
   ]
  },
  {
   "cell_type": "code",
   "execution_count": 4,
   "metadata": {},
   "outputs": [],
   "source": [
    "nodes, edges = ox.graph_to_gdfs(graph)"
   ]
  },
  {
   "cell_type": "code",
   "execution_count": 5,
   "metadata": {},
   "outputs": [],
   "source": [
    "to_marker_style = AwesomeIcon(\n",
    "    name='circle',\n",
    "    icon_color='white',\n",
    "    marker_color='red',\n",
    "    spin=False\n",
    ")\n",
    "center = (60.16607, 24.93116)\n",
    "\n",
    "from_marker = Marker(location=center)\n",
    "to_marker = Marker(location=center, icon=to_marker_style)"
   ]
  },
  {
   "cell_type": "code",
   "execution_count": 6,
   "metadata": {},
   "outputs": [],
   "source": [
    "def set_nearest_node(marker):\n",
    "    marker.nearest_node = ox.get_nearest_node(graph, marker.location)\n",
    "    return"
   ]
  },
  {
   "cell_type": "code",
   "execution_count": 7,
   "metadata": {},
   "outputs": [],
   "source": [
    "def handle_change_location(event, marker):\n",
    "    event_owner = event['owner']\n",
    "    event_owner.nearest_node = ox.get_nearest_node(graph, event_owner.location)\n",
    "    marker.neares_node = ox.get_nearest_node(graph, marker.location)\n",
    "    \n",
    "    shortest_path = nx.dijkstra_path(graph, event_owner.nearest_node, marker.neares_node, \n",
    "                                     weight='length')\n",
    "    \n",
    "    if len(path_layer_list) == 1:\n",
    "        m.remove_layer(path_layer_list[0])\n",
    "        path_layer_list.pop()\n",
    "    \n",
    "    shortest_path_points = nodes.loc[shortest_path]\n",
    "    path = gpd.GeoDataFrame([LineString(shortest_path_points.geometry.values)], columns=['geometry'])\n",
    "    path_layer = GeoData(geo_dataframe=path, style={'color':'black', 'weight':2})\n",
    "    m.add_layer(path_layer)\n",
    "    path_layer_list.append(path_layer)\n",
    "    \n",
    "    \n",
    "    \n",
    "from_marker.observe(lambda event: handle_change_location(event, to_marker), 'location')\n",
    "to_marker.observe(lambda event: handle_change_location(event, from_marker), 'location')"
   ]
  },
  {
   "cell_type": "code",
   "execution_count": 8,
   "metadata": {},
   "outputs": [
    {
     "data": {
      "application/vnd.jupyter.widget-view+json": {
       "model_id": "e152de123ce04a5891a3360fb299c2be",
       "version_major": 2,
       "version_minor": 0
      },
      "text/plain": [
       "Map(center=[60.16607, 24.93116], controls=(ZoomControl(options=['position', 'zoom_in_text', 'zoom_in_title', '…"
      ]
     },
     "metadata": {},
     "output_type": "display_data"
    }
   ],
   "source": [
    "m = Map(center=center, basemap=basemaps.CartoDB.Positron, zoom=15)\n",
    "\n",
    "m.add_layer(from_marker)\n",
    "m.add_layer(to_marker)\n",
    "set_nearest_node(from_marker)\n",
    "set_nearest_node(to_marker)\n",
    "path_layer_list = []\n",
    "m"
   ]
  },
  {
   "cell_type": "code",
   "execution_count": 9,
   "metadata": {},
   "outputs": [],
   "source": [
    "h = [1]"
   ]
  },
  {
   "cell_type": "code",
   "execution_count": 10,
   "metadata": {},
   "outputs": [
    {
     "data": {
      "text/plain": [
       "1"
      ]
     },
     "execution_count": 10,
     "metadata": {},
     "output_type": "execute_result"
    }
   ],
   "source": [
    "h.pop()"
   ]
  },
  {
   "cell_type": "code",
   "execution_count": 11,
   "metadata": {},
   "outputs": [
    {
     "data": {
      "text/plain": [
       "[]"
      ]
     },
     "execution_count": 11,
     "metadata": {},
     "output_type": "execute_result"
    }
   ],
   "source": [
    "h"
   ]
  },
  {
   "cell_type": "code",
   "execution_count": null,
   "metadata": {},
   "outputs": [],
   "source": []
  }
 ],
 "metadata": {
  "kernelspec": {
   "display_name": "Python 3",
   "language": "python",
   "name": "python3"
  },
  "language_info": {
   "codemirror_mode": {
    "name": "ipython",
    "version": 3
   },
   "file_extension": ".py",
   "mimetype": "text/x-python",
   "name": "python",
   "nbconvert_exporter": "python",
   "pygments_lexer": "ipython3",
   "version": "3.7.6"
  }
 },
 "nbformat": 4,
 "nbformat_minor": 4
}
